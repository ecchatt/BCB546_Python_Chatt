{
 "cells": [
  {
   "cell_type": "markdown",
   "metadata": {},
   "source": [
    "# BCB546X: Python Assignment, Elizabeth Chatt"
   ]
  },
  {
   "cell_type": "markdown",
   "metadata": {},
   "source": [
    "## Your Mission: Complete Python code in a Jupyter Notebook ##"
   ]
  },
  {
   "cell_type": "markdown",
   "metadata": {},
   "source": [
    "1. Document Dr. X's function with comments and with markdown text in your Jupyter notebook\n",
    "2. Write a function that translates a string of nucleotides to amino acids based on Dr. X's pseudo-code suggestion\n",
    "3. Write an alternative translation function\n",
    "4. Write a function (or 3 functions) that calculates the proportion of each of 3 amino acid categories in a sequence\n",
    "5. In the MAIN part of the script, call your functions from 3 (or 2) and 4 and complete the empty columns in the dataframe\n",
    "6. Plot a bar-chart of adult mass per species\n",
    "7. Plot a graph that shows the amino-acid type proportions\n",
    "8. Write the entire dataframe to a new CSV file\n",
    "9. BONUS: What other visualizations, functions or tasks would you do with this dataset? Add something interesting for fun."
   ]
  },
  {
   "cell_type": "markdown",
   "metadata": {},
   "source": [
    "## Please note this script requires biopython!"
   ]
  },
  {
   "cell_type": "markdown",
   "metadata": {},
   "source": [
    "### Before staring, import the needed packages."
   ]
  },
  {
   "cell_type": "code",
   "execution_count": null,
   "metadata": {
    "collapsed": true
   },
   "outputs": [],
   "source": [
    "from Bio import SeqIO\n",
    "from Bio.Data import CodonTable\n",
    "import pandas as pd"
   ]
  },
  {
   "cell_type": "markdown",
   "metadata": {},
   "source": [
    "### 1. Documentation of Dr. X's function to retrieve sequences"
   ]
  },
  {
   "cell_type": "code",
   "execution_count": null,
   "metadata": {
    "collapsed": true
   },
   "outputs": [],
   "source": [
    "def get_sequences_from_file(fasta_fn):\n",
    "    sequence_data_dict = {}\n",
    "    for record in SeqIO.parse(fasta_fn, \"fasta\"):\n",
    "        description = record.description.split()\n",
    "        species_name = description[1] + \" \" + description[2]\n",
    "        sequence_data_dict[species_name] = record.seq\n",
    "    return(sequence_data_dict)"
   ]
  },
  {
   "cell_type": "markdown",
   "metadata": {},
   "source": [
    "#### Explaination of function to retrieve sequences   \n",
    "**Line 1**   \n",
    "```def``` in the first line is the keyword used to start a user defined function. The function we are defining is called ```get_sequences_from_file``` and ```(fasta_fn)``` is the argument for this function.   \n",
    "**Line 2**   \n",
    "```sequence_data_dict = {}``` creates an empty dictionary given the name ```sequence_data_dict``` that the result of the function will be deposited into.   \n",
    "**Line 3**   \n",
    "Using the ```SeqIO.parse``` function we are reading in individual records contained in our file named \"fasta_fn\" and are indicating that our file is in fasta formate.   \n",
    "**Line 4**   \n",
    "Defines how to split the individual sequence records from the file and defines the record description   \n",
    "**Line 5**   \n",
    "Defines that the species name associated with each sequence is two words separated by a space   \n",
    "**Line 6**   \n",
    "For the key \"species_name\" in our \"seuqence_data_dict\" dictionary we are assigning the \"record.seq\" as the value   \n",
    "**Line 7**   \n",
    "```return``` exits out of the function we just defined to generate a dictionary of the individual sequence records present in a single file"
   ]
  },
  {
   "cell_type": "markdown",
   "metadata": {},
   "source": [
    "### 2. Function that translates a string of nucleotides to amino acids based on Dr. X's pseudo-code suggestion"
   ]
  },
  {
   "cell_type": "markdown",
   "metadata": {},
   "source": [
    "* All sequences start at codon position 1\n",
    "* Complete a function that does this using loop over the string of nucleotides\n",
    "* Here is  some pseudo-code and suggestions. Feel free to change the function and variable names:   \n",
    "```def translate_function(string_nucleotides):   \n",
    "    mito_table = CodonTable.unambiguous_dna_by_name[\"Vertebrate Mitochondrial\"]```"
   ]
  },
  {
   "cell_type": "markdown",
   "metadata": {},
   "source": [
    "* This should work using BioPython (be sure to check what this returns)\n",
    "* for-loop through every 3rd position in string_nucleotides to get the codon using range subsets   \n",
    "**IMPORTANT**: if the sequence has a stop codon at the end, you should leave it off\n",
    "* This is how you can retrieve the amino acid:   \n",
    "<P><code>mito_table.forward_table[codon]\n",
    "         add the aa to aa_seq_string\n",
    "     return(aa_seq_string)"
   ]
  },
  {
   "cell_type": "markdown",
   "metadata": {},
   "source": [
    "### My Code"
   ]
  },
  {
   "cell_type": "markdown",
   "metadata": {},
   "source": [
    "#### Importing the vertebrate mitochondrial codon table from biopython"
   ]
  },
  {
   "cell_type": "code",
   "execution_count": null,
   "metadata": {
    "collapsed": true
   },
   "outputs": [],
   "source": [
    "mito_table = CodonTable.unambiguous_dna_by_name[\"Vertebrate Mitochondrial\"]"
   ]
  },
  {
   "cell_type": "markdown",
   "metadata": {},
   "source": [
    "#### Checking the \"mito_table\" by printing"
   ]
  },
  {
   "cell_type": "code",
   "execution_count": null,
   "metadata": {
    "collapsed": false
   },
   "outputs": [],
   "source": [
    "print(mito_table)"
   ]
  },
  {
   "cell_type": "markdown",
   "metadata": {},
   "source": [
    "#### To see the list of stop codons"
   ]
  },
  {
   "cell_type": "code",
   "execution_count": null,
   "metadata": {
    "collapsed": false
   },
   "outputs": [],
   "source": [
    "mito_table.stop_codons"
   ]
  },
  {
   "cell_type": "markdown",
   "metadata": {},
   "source": [
    "#### Defining the ```translate2``` function"
   ]
  },
  {
   "cell_type": "code",
   "execution_count": null,
   "metadata": {
    "collapsed": false
   },
   "outputs": [],
   "source": [
    "def translate2( sequence ):\n",
    "    mito_table = CodonTable.unambiguous_dna_by_name[\"Vertebrate Mitochondrial\"]\n",
    "    aa_seq_string = ''\n",
    "    for i in range(0, len(sequence), 3):\n",
    "        codon = sequence[i: i+3]\n",
    "        if codon not in mito_table.stop_codons:\n",
    "            aa_seq_string += mito_table.forward_table[codon]\n",
    "    return(aa_seq_string)"
   ]
  },
  {
   "cell_type": "markdown",
   "metadata": {},
   "source": [
    "#### Test of ```translate2``` function"
   ]
  },
  {
   "cell_type": "code",
   "execution_count": null,
   "metadata": {
    "collapsed": false
   },
   "outputs": [],
   "source": [
    "seq = \"TGGATG\"\n",
    "translate2(seq)"
   ]
  },
  {
   "cell_type": "markdown",
   "metadata": {
    "collapsed": true
   },
   "source": [
    "### 3. Alternative function to translate nucleotides to amino acids \n",
    "Is there a better way to write the translation function? (Hint: yes there is.)   \n",
    "Perhaps using available BioPython library utilities?"
   ]
  },
  {
   "cell_type": "markdown",
   "metadata": {},
   "source": [
    "#### We can translate nucleotides to amino acids using the ```translate``` function from Bio.Seq which is part of BioPython"
   ]
  },
  {
   "cell_type": "code",
   "execution_count": null,
   "metadata": {
    "collapsed": false
   },
   "outputs": [],
   "source": [
    "from Bio.Seq import Seq\n",
    "\n",
    "def translate3(sequence):\n",
    "#Define your sequence to be translated\n",
    "    coding_dna = Seq(sequence)\n",
    "#Use the translate function with the vertebrate mitochondrial codon table to translate sequence\n",
    "    sequence = coding_dna.translate(table=\"Vertebrate Mitochondrial\", to_stop=True)\n",
    "    return sequence\n",
    "\n",
    "translate3('ATG')"
   ]
  },
  {
   "cell_type": "markdown",
   "metadata": {},
   "source": [
    "### 4. Count amino acid function to compute the proportion of 3 categories of amino acids present in a sequence using BioPython or as a string  \n",
    "* Amino acid categories are based on the following code:\n",
    "\n",
    "```def get_proportion_aa_type_function(aa_seq):  \n",
    "charged = ['R','K','D','E']  \n",
    "polar = ['Q','N','H','S','T','Y','C','M','W']   \n",
    "hydrophobic = ['A','I','L','F','V','P','G']   \n",
    "for aa in charged:  \n",
    "count the number of times that aa appears, add to the total for charged  \n",
    "repeat for polar and hydrophobic   \n",
    "return proportion_charged, proportion_polar, proportion_hydro```    "
   ]
  },
  {
   "cell_type": "markdown",
   "metadata": {
    "collapsed": true
   },
   "source": [
    "**Hint**: you may want to write this as 3 separate functions instead of just 1, it's up to you"
   ]
  },
  {
   "cell_type": "markdown",
   "metadata": {
    "collapsed": true
   },
   "source": [
    "#### Function to find the proportion of charged amino acids as a string"
   ]
  },
  {
   "cell_type": "code",
   "execution_count": null,
   "metadata": {
    "collapsed": false
   },
   "outputs": [],
   "source": [
    "def proportion_charged_aa(sequence):\n",
    "    charged = ['R','K','D','E']\n",
    "    count_charge = 0\n",
    "    for i in sequence:\n",
    "        if i in charged:\n",
    "            count_charge += 1\n",
    "    proportion_charged = count_charge/len(sequence)\n",
    "    return proportion_charged\n",
    "proportion_charged_aa('RWYAVTYV')"
   ]
  },
  {
   "cell_type": "markdown",
   "metadata": {},
   "source": [
    "#### Function to find the proportion of polar amino acids as a string"
   ]
  },
  {
   "cell_type": "code",
   "execution_count": null,
   "metadata": {
    "collapsed": false
   },
   "outputs": [],
   "source": [
    "def proportion_polar_aa(sequence):\n",
    "    polar = ['Q','N','H','S','T','Y','C','M','W']\n",
    "    count_polar = 0\n",
    "    for i in sequence:\n",
    "        if i in polar:\n",
    "            count_polar += 1\n",
    "    proportion_polar = count_polar/len(sequence)\n",
    "    return proportion_polar\n",
    "proportion_polar_aa('RWYAVTYV')"
   ]
  },
  {
   "cell_type": "markdown",
   "metadata": {},
   "source": [
    "#### Function to find the proportion of hydrophobic amino acids as a string"
   ]
  },
  {
   "cell_type": "code",
   "execution_count": null,
   "metadata": {
    "collapsed": false
   },
   "outputs": [],
   "source": [
    "def proportion_hydrophobic_aa(sequence):\n",
    "    hydrophobic = ['A','I','L','F','V','P','G'] \n",
    "    count_hydrophobic = 0\n",
    "    for i in sequence:\n",
    "        if i in hydrophobic:\n",
    "            count_hydrophobic += 1\n",
    "    proportion_hydrophobic = count_hydrophobic/len(sequence)\n",
    "    return proportion_hydrophobic\n",
    "proportion_hydrophobic_aa('RWYAVTYV')"
   ]
  },
  {
   "cell_type": "markdown",
   "metadata": {},
   "source": [
    "### 5. Write a for-loop that translates each sequence and also gets the proportion of each aa type in that translated sequence and adds those data to dataframe"
   ]
  },
  {
   "cell_type": "markdown",
   "metadata": {},
   "source": [
    "Psuedo Code to work from:   \n",
    "```for key, value in cytb_seqs.items():\n",
    "    aa_seq = nuc2aa_translate_function(vale)```  \n",
    "    \n",
    "get proportions of each aa type\n",
    "set the value of each proportion in the dataframe (i.e., fill in empty cells in DF)"
   ]
  },
  {
   "cell_type": "markdown",
   "metadata": {},
   "source": [
    "#### Read in the .csv file containing the bear species and mass data as a dataframe"
   ]
  },
  {
   "cell_type": "code",
   "execution_count": null,
   "metadata": {
    "collapsed": true
   },
   "outputs": [],
   "source": [
    "bear_df = pd.read_csv(\"bears_data.csv\")"
   ]
  },
  {
   "cell_type": "markdown",
   "metadata": {},
   "source": [
    "#### Generating a dictionary of the parsed sequence files for our bear data"
   ]
  },
  {
   "cell_type": "code",
   "execution_count": null,
   "metadata": {
    "collapsed": false
   },
   "outputs": [],
   "source": [
    "cytb_seqs = get_sequences_from_file(\"bears_cytb.fasta\")"
   ]
  },
  {
   "cell_type": "markdown",
   "metadata": {},
   "source": [
    "#### Checking that the dictionary was made properly by printing all of the key:value pairs"
   ]
  },
  {
   "cell_type": "code",
   "execution_count": null,
   "metadata": {
    "collapsed": false
   },
   "outputs": [],
   "source": [
    "for key, value in cytb_seqs.items():\n",
    "    print(key, \"->\", value)"
   ]
  },
  {
   "cell_type": "markdown",
   "metadata": {},
   "source": [
    "#### Create empty lists and then loop through the amino acid sequence data and fill the empty lists with the corresponding proportion information"
   ]
  },
  {
   "cell_type": "code",
   "execution_count": null,
   "metadata": {
    "collapsed": false
   },
   "outputs": [],
   "source": [
    "charged_list = []\n",
    "polar_list = []\n",
    "hydrophobic_list = []\n",
    "for k, v in cytb_seqs.items():\n",
    "    aa_seq = translate2(v)\n",
    "    charged_list.append(proportion_charged_aa(aa_seq))\n",
    "    polar_list.append(proportion_polar_aa(aa_seq))\n",
    "    hydrophobic_list.append(proportion_hydrophobic_aa(aa_seq))"
   ]
  },
  {
   "cell_type": "markdown",
   "metadata": {},
   "source": [
    "#### The species order in the dictionary of sequences differs from the order in the bears_df. To fix this, the species column in the bears_df file will be replaced with a list of species names generated from the dictionary keys. "
   ]
  },
  {
   "cell_type": "code",
   "execution_count": null,
   "metadata": {
    "collapsed": true
   },
   "outputs": [],
   "source": [
    "bear_df['species']=list(cytb_seqs.keys())"
   ]
  },
  {
   "cell_type": "markdown",
   "metadata": {},
   "source": [
    "#### To add the proportions information to bears_df"
   ]
  },
  {
   "cell_type": "code",
   "execution_count": null,
   "metadata": {
    "collapsed": false
   },
   "outputs": [],
   "source": [
    "bear_df['charged'] = charged_list\n",
    "bear_df['polar'] = polar_list\n",
    "bear_df['hydrophobic'] = hydrophobic_list\n",
    "bear_df"
   ]
  },
  {
   "cell_type": "markdown",
   "metadata": {},
   "source": [
    "### 6. Plot a bar-chart of the mass with the x-axes labeled with species names.   \n",
    "\n",
    "#### What is the largest bear species? What else is interesting about this species?"
   ]
  },
  {
   "cell_type": "code",
   "execution_count": null,
   "metadata": {
    "collapsed": false
   },
   "outputs": [],
   "source": [
    "from bokeh.io import push_notebook, show, output_notebook\n",
    "from bokeh.charts import Bar, output_file, show\n",
    "output_notebook()"
   ]
  },
  {
   "cell_type": "code",
   "execution_count": null,
   "metadata": {
    "collapsed": false
   },
   "outputs": [],
   "source": [
    "p = Bar(bear_df, 'species', values='mass', title=\"Bear species by mass\")\n",
    "show(p)"
   ]
  },
  {
   "cell_type": "markdown",
   "metadata": {
    "collapsed": false
   },
   "source": [
    "#### Ursus spelaeus is the largest bear species. It is almost 12 times larger than Helarctos malayanus, the smallest bear species."
   ]
  },
  {
   "cell_type": "markdown",
   "metadata": {},
   "source": [
    "### 7. Plot a visualization of the proportions for amino-acid type for the bear species"
   ]
  },
  {
   "cell_type": "code",
   "execution_count": null,
   "metadata": {
    "collapsed": true
   },
   "outputs": [],
   "source": [
    "from bokeh.charts import Bar, output_file, show\n",
    "from bokeh.charts.attributes import cat, color\n",
    "from bokeh.charts.operations import blend"
   ]
  },
  {
   "cell_type": "code",
   "execution_count": null,
   "metadata": {
    "collapsed": false
   },
   "outputs": [],
   "source": [
    "bar = Bar(bear_df,\n",
    "          values=blend('charged', 'polar', 'hydrophobic', name='proportion amino acid type', labels_name='aa_type'),\n",
    "          label=cat(columns='species', sort=False),\n",
    "          stack=cat(columns='aa_type', sort=False),\n",
    "          color=color(columns='aa_type', palette=['SaddleBrown', 'Silver', 'Goldenrod'],\n",
    "                      sort=False),\n",
    "          legend='top_right',\n",
    "          title=\" Proportions for amino acid type by bear species\",\n",
    "          tooltips=[('aa_type', '@proportion'), ('species', '@species')])\n",
    "\n",
    "\n",
    "output_file(\"proportion_amino_acid.html\")\n",
    "\n",
    "show(bar)"
   ]
  },
  {
   "cell_type": "markdown",
   "metadata": {},
   "source": [
    "#### What does this show about cytochrome-b for the bears?\n",
    "Cytochrome-b in bears is highly conserved for amino acid comosition. "
   ]
  },
  {
   "cell_type": "markdown",
   "metadata": {},
   "source": [
    "### 8. Save the new dataframe to a file called \"bears_mass_cytb.csv\""
   ]
  },
  {
   "cell_type": "code",
   "execution_count": null,
   "metadata": {
    "collapsed": true
   },
   "outputs": [],
   "source": [
    "bear_df.to_csv('bear_mass_cytb.csv', header=True)"
   ]
  },
  {
   "cell_type": "markdown",
   "metadata": {},
   "source": [
    "### BONUS \n",
    "#### What else can we do with this dataset in Python? \n",
    "#### Add functions or anything that might be interesting and fun. (optional)"
   ]
  }
 ],
 "metadata": {
  "kernelspec": {
   "display_name": "Python 3",
   "language": "python",
   "name": "python3"
  },
  "language_info": {
   "codemirror_mode": {
    "name": "ipython",
    "version": 3
   },
   "file_extension": ".py",
   "mimetype": "text/x-python",
   "name": "python",
   "nbconvert_exporter": "python",
   "pygments_lexer": "ipython3",
   "version": "3.6.0"
  }
 },
 "nbformat": 4,
 "nbformat_minor": 2
}
